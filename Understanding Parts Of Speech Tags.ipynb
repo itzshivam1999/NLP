{
 "cells": [
  {
   "cell_type": "markdown",
   "metadata": {},
   "source": [
    "### Parts Of Speech Tags"
   ]
  },
  {
   "cell_type": "code",
   "execution_count": 9,
   "metadata": {},
   "outputs": [
    {
     "name": "stderr",
     "output_type": "stream",
     "text": [
      "[nltk_data] Downloading package averaged_perceptron_tagger_eng to\n",
      "[nltk_data]     C:\\Users\\itzsh\\AppData\\Roaming\\nltk_data...\n",
      "[nltk_data]   Unzipping taggers\\averaged_perceptron_tagger_eng.zip.\n"
     ]
    },
    {
     "data": {
      "text/plain": [
       "True"
      ]
     },
     "execution_count": 9,
     "metadata": {},
     "output_type": "execute_result"
    }
   ],
   "source": [
    "import nltk\n",
    "nltk.download('averaged_perceptron_tagger_eng')"
   ]
  },
  {
   "cell_type": "markdown",
   "metadata": {},
   "source": [
    "#### The AveragedPerceptronTagger is a part of the Natural Language Toolkit (NLTK) in Python, and it's used for Part-of-Speech (POS) tagging. POS tagging involves assigning parts of speech (like nouns, verbs, adjectives, etc.) to each word in a given text. This is useful for various natural language processing (NLP) tasks such as information extraction, text-to-speech conversion, and language modeling."
   ]
  },
  {
   "cell_type": "markdown",
   "metadata": {},
   "source": [
    "| Tag   | Description                                | Example                    |\n",
    "|-------|--------------------------------------------|----------------------------|\n",
    "| **CC**  | Coordinating conjunction                  | \"and\", \"but\", \"or\"         |\n",
    "| **CD**  | Cardinal digit                            | \"one\", \"two\", \"3\"          |\n",
    "| **DT**  | Determiner                                | \"the\", \"a\", \"an\"           |\n",
    "| **EX**  | Existential there                         | \"there is\", \"there exists\" |\n",
    "| **FW**  | Foreign word                              | \"faux pas\"                 |\n",
    "| **IN**  | Preposition/subordinating conjunction     | \"in\", \"of\", \"like\"         |\n",
    "| **JJ**  | Adjective                                 | \"big\", \"small\"             |\n",
    "| **JJR** | Adjective, comparative                    | \"bigger\", \"smaller\"        |\n",
    "| **JJS** | Adjective, superlative                    | \"biggest\", \"smallest\"      |\n",
    "| **LS**  | List item marker                          | \"1)\", \"A)\"                 |\n",
    "| **MD**  | Modal                                     | \"could\", \"will\", \"might\"   |\n",
    "| **NN**  | Noun, singular                            | \"desk\"                     |\n",
    "| **NNS** | Noun, plural                              | \"desks\"                    |\n",
    "| **NNP** | Proper noun, singular                     | \"Harrison\"                 |\n",
    "| **NNPS**| Proper noun, plural                       | \"Americans\"                |\n",
    "| **PDT** | Predeterminer                             | \"all the kids\"             |\n",
    "| **POS** | Possessive ending                         | \"parent's\"                 |\n",
    "| **PRP** | Personal pronoun                          | \"I\", \"he\", \"she\"           |\n",
    "| **PRP$**| Possessive pronoun                        | \"my\", \"his\", \"hers\"        |\n",
    "| **RB**  | Adverb                                    | \"very\", \"silently\"         |\n",
    "| **RBR** | Adverb, comparative                       | \"better\"                   |\n",
    "| **RBS** | Adverb, superlative                       | \"best\"                     |\n",
    "| **RP**  | Particle                                  | \"give up\"                  |\n",
    "| **TO**  | \"to\"                                      | \"to go to the store\"       |\n",
    "| **UH**  | Interjection                              | \"errrrrrrrm\"               |\n",
    "| **VB**  | Verb, base form                           | \"take\"                     |\n",
    "| **VBD** | Verb, past tense                          | \"took\"                     |\n",
    "| **VBG** | Verb, gerund/present participle           | \"taking\"                   |\n",
    "| **VBN** | Verb, past participle                     | \"taken\"                    |\n",
    "| **VBP** | Verb, non-3rd person singular present     | \"take\"                     |\n",
    "| **VBZ** | Verb, 3rd person singular present         | \"takes\"                    |\n",
    "| **WDT** | WH-determiner                             | \"which\"                    |\n",
    "| **WP**  | WH-pronoun                                | \"who\", \"what\"              |\n",
    "| **WRB** | WH-adverb                                 | \"where\", \"when\"            |\n"
   ]
  },
  {
   "cell_type": "markdown",
   "metadata": {},
   "source": [
    "#### Examples:"
   ]
  },
  {
   "cell_type": "code",
   "execution_count": 19,
   "metadata": {},
   "outputs": [
    {
     "data": {
      "text/plain": [
       "['Taj', 'Mahal', 'is', 'a', 'beautiful', 'Monument']"
      ]
     },
     "execution_count": 19,
     "metadata": {},
     "output_type": "execute_result"
    }
   ],
   "source": [
    " \"Taj Mahal is a beautiful Monument\".split()"
   ]
  },
  {
   "cell_type": "code",
   "execution_count": 14,
   "metadata": {},
   "outputs": [
    {
     "name": "stdout",
     "output_type": "stream",
     "text": [
      "[('Taj', 'NNP'), ('Mahal', 'NNP'), ('is', 'VBZ'), ('a', 'DT'), ('beautiful', 'JJ'), ('Monument', 'NN')]\n"
     ]
    }
   ],
   "source": [
    "print(nltk.pos_tag(\"Taj Mahal is a beautiful Monument\".split()))"
   ]
  },
  {
   "cell_type": "markdown",
   "metadata": {},
   "source": [
    "#### Applying on paragraph:"
   ]
  },
  {
   "cell_type": "code",
   "execution_count": 10,
   "metadata": {},
   "outputs": [],
   "source": [
    "paragraph = \"The Taj Mahal is an ivory-white marble mausoleum on the right bank of the river Yamuna in Agra, Uttar Pradesh, India. It was commissioned in 1631 by the fifth Mughal emperor, Shah Jahan (1628-1658) to house the tomb of his beloved wife, Mumtaz Mahal; it also houses the tomb of Shah Jahan himself. The tomb is the centrepiece of a 17-hectare (42-acre) complex, which includes a mosque and a guest house, and is set in formal gardens bounded on three sides by a crenellated wall. Construction of the mausoleum was completed in 1648, but work continued on other phases of the project for another five years. The first ceremony held at the mausoleum was an observance by Shah Jahan, on 6 February 1643, of the 12th anniversary of the death of Mumtaz Mahal. The Taj Mahal complex is believed to have been completed in its entirety in 1653 at a cost estimated at the time to be around ₹5 million, which in 2023 would be approximately ₹35 billion (US$77.8 million). The building complex incorporates the design traditions of Indo-Islamic and Mughal architecture. It employs symmetrical constructions with the usage of various shapes and symbols. While the mausoleum is constructed of white marble inlaid with semi-precious stones, red sandstone was used for other buildings in the complex similar to the Mughal era buildings of the time. The construction project employed more than 20,000 workers and artisans under the guidance of a board of architects led by Ustad Ahmad Lahori, the emperor's court architect. The Taj Mahal was designated as a UNESCO World Heritage Site in 1983 for being 'the jewel of Islamic art in India and one of the universally admired masterpieces of the world's heritage'. It is regarded as one of the best examples of Mughal architecture and a symbol of Indian history. The Taj Mahal is a major tourist attraction and attracts more than five million visitors a year. In 2007, it was declared a winner of the New 7 Wonders of the World initiative.\""
   ]
  },
  {
   "cell_type": "code",
   "execution_count": 11,
   "metadata": {},
   "outputs": [
    {
     "data": {
      "text/plain": [
       "\"The Taj Mahal is an ivory-white marble mausoleum on the right bank of the river Yamuna in Agra, Uttar Pradesh, India. It was commissioned in 1631 by the fifth Mughal emperor, Shah Jahan (1628-1658) to house the tomb of his beloved wife, Mumtaz Mahal; it also houses the tomb of Shah Jahan himself. The tomb is the centrepiece of a 17-hectare (42-acre) complex, which includes a mosque and a guest house, and is set in formal gardens bounded on three sides by a crenellated wall. Construction of the mausoleum was completed in 1648, but work continued on other phases of the project for another five years. The first ceremony held at the mausoleum was an observance by Shah Jahan, on 6 February 1643, of the 12th anniversary of the death of Mumtaz Mahal. The Taj Mahal complex is believed to have been completed in its entirety in 1653 at a cost estimated at the time to be around ₹5 million, which in 2023 would be approximately ₹35 billion (US$77.8 million). The building complex incorporates the design traditions of Indo-Islamic and Mughal architecture. It employs symmetrical constructions with the usage of various shapes and symbols. While the mausoleum is constructed of white marble inlaid with semi-precious stones, red sandstone was used for other buildings in the complex similar to the Mughal era buildings of the time. The construction project employed more than 20,000 workers and artisans under the guidance of a board of architects led by Ustad Ahmad Lahori, the emperor's court architect. The Taj Mahal was designated as a UNESCO World Heritage Site in 1983 for being 'the jewel of Islamic art in India and one of the universally admired masterpieces of the world's heritage'. It is regarded as one of the best examples of Mughal architecture and a symbol of Indian history. The Taj Mahal is a major tourist attraction and attracts more than five million visitors a year. In 2007, it was declared a winner of the New 7 Wonders of the World initiative.\""
      ]
     },
     "execution_count": 11,
     "metadata": {},
     "output_type": "execute_result"
    }
   ],
   "source": [
    "paragraph"
   ]
  },
  {
   "cell_type": "code",
   "execution_count": 12,
   "metadata": {},
   "outputs": [],
   "source": [
    "from nltk.corpus import stopwords\n",
    "sentences=nltk.sent_tokenize(paragraph)"
   ]
  },
  {
   "cell_type": "code",
   "execution_count": 13,
   "metadata": {},
   "outputs": [
    {
     "data": {
      "text/plain": [
       "['The Taj Mahal is an ivory-white marble mausoleum on the right bank of the river Yamuna in Agra, Uttar Pradesh, India.',\n",
       " 'It was commissioned in 1631 by the fifth Mughal emperor, Shah Jahan (1628-1658) to house the tomb of his beloved wife, Mumtaz Mahal; it also houses the tomb of Shah Jahan himself.',\n",
       " 'The tomb is the centrepiece of a 17-hectare (42-acre) complex, which includes a mosque and a guest house, and is set in formal gardens bounded on three sides by a crenellated wall.',\n",
       " 'Construction of the mausoleum was completed in 1648, but work continued on other phases of the project for another five years.',\n",
       " 'The first ceremony held at the mausoleum was an observance by Shah Jahan, on 6 February 1643, of the 12th anniversary of the death of Mumtaz Mahal.',\n",
       " 'The Taj Mahal complex is believed to have been completed in its entirety in 1653 at a cost estimated at the time to be around ₹5 million, which in 2023 would be approximately ₹35 billion (US$77.8 million).',\n",
       " 'The building complex incorporates the design traditions of Indo-Islamic and Mughal architecture.',\n",
       " 'It employs symmetrical constructions with the usage of various shapes and symbols.',\n",
       " 'While the mausoleum is constructed of white marble inlaid with semi-precious stones, red sandstone was used for other buildings in the complex similar to the Mughal era buildings of the time.',\n",
       " \"The construction project employed more than 20,000 workers and artisans under the guidance of a board of architects led by Ustad Ahmad Lahori, the emperor's court architect.\",\n",
       " \"The Taj Mahal was designated as a UNESCO World Heritage Site in 1983 for being 'the jewel of Islamic art in India and one of the universally admired masterpieces of the world's heritage'.\",\n",
       " 'It is regarded as one of the best examples of Mughal architecture and a symbol of Indian history.',\n",
       " 'The Taj Mahal is a major tourist attraction and attracts more than five million visitors a year.',\n",
       " 'In 2007, it was declared a winner of the New 7 Wonders of the World initiative.']"
      ]
     },
     "execution_count": 13,
     "metadata": {},
     "output_type": "execute_result"
    }
   ],
   "source": [
    "sentences"
   ]
  },
  {
   "cell_type": "code",
   "execution_count": 18,
   "metadata": {},
   "outputs": [
    {
     "name": "stdout",
     "output_type": "stream",
     "text": [
      "[('The', 'DT'), ('Taj', 'NNP'), ('Mahal', 'NNP'), ('ivory-white', 'JJ'), ('marble', 'NN'), ('mausoleum', 'NN'), ('right', 'RB'), ('bank', 'NN'), ('river', 'NN'), ('Yamuna', 'NNP'), ('Agra', 'NNP'), (',', ','), ('Uttar', 'NNP'), ('Pradesh', 'NNP'), (',', ','), ('India', 'NNP'), ('.', '.')]\n",
      "[('It', 'PRP'), ('commissioned', 'VBD'), ('1631', 'CD'), ('fifth', 'JJ'), ('Mughal', 'NNP'), ('emperor', 'NN'), (',', ','), ('Shah', 'NNP'), ('Jahan', 'NNP'), ('(', '('), ('1628-1658', 'JJ'), (')', ')'), ('house', 'NN'), ('tomb', 'NN'), ('beloved', 'VBD'), ('wife', 'NN'), (',', ','), ('Mumtaz', 'NNP'), ('Mahal', 'NNP'), (';', ':'), ('also', 'RB'), ('houses', 'NNS'), ('tomb', 'VBP'), ('Shah', 'NNP'), ('Jahan', 'NNP'), ('.', '.')]\n",
      "[('The', 'DT'), ('tomb', 'NN'), ('centrepiece', 'VBD'), ('17-hectare', 'JJ'), ('(', '('), ('42-acre', 'JJ'), (')', ')'), ('complex', 'NN'), (',', ','), ('includes', 'VBZ'), ('mosque', 'JJ'), ('guest', 'NN'), ('house', 'NN'), (',', ','), ('set', 'VBN'), ('formal', 'JJ'), ('gardens', 'NNS'), ('bounded', 'VBD'), ('three', 'CD'), ('sides', 'NNS'), ('crenellated', 'VBD'), ('wall', 'NN'), ('.', '.')]\n",
      "[('Construction', 'NN'), ('mausoleum', 'NN'), ('completed', 'VBD'), ('1648', 'CD'), (',', ','), ('work', 'NN'), ('continued', 'VBD'), ('phases', 'NNS'), ('project', 'NN'), ('another', 'DT'), ('five', 'CD'), ('years', 'NNS'), ('.', '.')]\n",
      "[('The', 'DT'), ('first', 'JJ'), ('ceremony', 'NN'), ('held', 'VBD'), ('mausoleum', 'JJ'), ('observance', 'NN'), ('Shah', 'NNP'), ('Jahan', 'NNP'), (',', ','), ('6', 'CD'), ('February', 'NNP'), ('1643', 'CD'), (',', ','), ('12th', 'CD'), ('anniversary', 'JJ'), ('death', 'NN'), ('Mumtaz', 'NNP'), ('Mahal', 'NNP'), ('.', '.')]\n",
      "[('The', 'DT'), ('Taj', 'NNP'), ('Mahal', 'NNP'), ('complex', 'NN'), ('believed', 'VBD'), ('completed', 'VBN'), ('entirety', 'NN'), ('1653', 'CD'), ('cost', 'NN'), ('estimated', 'VBD'), ('time', 'NN'), ('around', 'IN'), ('₹5', 'NNP'), ('million', 'CD'), (',', ','), ('2023', 'CD'), ('would', 'MD'), ('approximately', 'RB'), ('₹35', 'VB'), ('billion', 'CD'), ('(', '('), ('US', 'NNP'), ('$', '$'), ('77.8', 'CD'), ('million', 'CD'), (')', ')'), ('.', '.')]\n",
      "[('The', 'DT'), ('building', 'NN'), ('complex', 'JJ'), ('incorporates', 'VBZ'), ('design', 'JJ'), ('traditions', 'NNS'), ('Indo-Islamic', 'JJ'), ('Mughal', 'NNP'), ('architecture', 'NN'), ('.', '.')]\n",
      "[('It', 'PRP'), ('employs', 'VBZ'), ('symmetrical', 'JJ'), ('constructions', 'NNS'), ('usage', 'VBP'), ('various', 'JJ'), ('shapes', 'NNS'), ('symbols', 'NNS'), ('.', '.')]\n",
      "[('While', 'IN'), ('mausoleum', 'NN'), ('constructed', 'VBN'), ('white', 'JJ'), ('marble', 'JJ'), ('inlaid', 'JJ'), ('semi-precious', 'JJ'), ('stones', 'NNS'), (',', ','), ('red', 'JJ'), ('sandstone', 'NN'), ('used', 'VBN'), ('buildings', 'NNS'), ('complex', 'JJ'), ('similar', 'JJ'), ('Mughal', 'NNP'), ('era', 'NN'), ('buildings', 'NNS'), ('time', 'NN'), ('.', '.')]\n",
      "[('The', 'DT'), ('construction', 'NN'), ('project', 'NN'), ('employed', 'VBD'), ('20,000', 'CD'), ('workers', 'NNS'), ('artisans', 'NNS'), ('guidance', 'VBP'), ('board', 'NN'), ('architects', 'NNS'), ('led', 'VBD'), ('Ustad', 'NNP'), ('Ahmad', 'NNP'), ('Lahori', 'NNP'), (',', ','), ('emperor', 'NN'), (\"'s\", 'POS'), ('court', 'NN'), ('architect', 'NN'), ('.', '.')]\n",
      "[('The', 'DT'), ('Taj', 'NNP'), ('Mahal', 'NNP'), ('designated', 'VBD'), ('UNESCO', 'NNP'), ('World', 'NNP'), ('Heritage', 'NNP'), ('Site', 'NNP'), ('1983', 'CD'), (\"'the\", 'NNP'), ('jewel', 'NN'), ('Islamic', 'NNP'), ('art', 'NN'), ('India', 'NNP'), ('one', 'CD'), ('universally', 'RB'), ('admired', 'VBN'), ('masterpieces', 'NNS'), ('world', 'NN'), (\"'s\", 'POS'), ('heritage', 'NN'), (\"'\", \"''\"), ('.', '.')]\n",
      "[('It', 'PRP'), ('regarded', 'VBD'), ('one', 'CD'), ('best', 'JJS'), ('examples', 'NNS'), ('Mughal', 'NNP'), ('architecture', 'NN'), ('symbol', 'NN'), ('Indian', 'JJ'), ('history', 'NN'), ('.', '.')]\n",
      "[('The', 'DT'), ('Taj', 'NNP'), ('Mahal', 'NNP'), ('major', 'JJ'), ('tourist', 'NN'), ('attraction', 'NN'), ('attracts', 'VBZ'), ('five', 'CD'), ('million', 'CD'), ('visitors', 'NNS'), ('year', 'NN'), ('.', '.')]\n",
      "[('In', 'IN'), ('2007', 'CD'), (',', ','), ('declared', 'VBD'), ('winner', 'JJR'), ('New', 'NNP'), ('7', 'CD'), ('Wonders', 'NNP'), ('World', 'NNP'), ('initiative', 'NN'), ('.', '.')]\n"
     ]
    }
   ],
   "source": [
    "for i in range(len(sentences)):\n",
    "    words=nltk.word_tokenize(sentences[i])\n",
    "    words=[word for word in words if word not in set(stopwords.words('english'))]\n",
    "    pos_tag=nltk.pos_tag(words)\n",
    "    print(pos_tag)"
   ]
  }
 ],
 "metadata": {
  "kernelspec": {
   "display_name": "Python 3 (ipykernel)",
   "language": "python",
   "name": "python3"
  },
  "language_info": {
   "codemirror_mode": {
    "name": "ipython",
    "version": 3
   },
   "file_extension": ".py",
   "mimetype": "text/x-python",
   "name": "python",
   "nbconvert_exporter": "python",
   "pygments_lexer": "ipython3",
   "version": "3.12.7"
  }
 },
 "nbformat": 4,
 "nbformat_minor": 4
}
