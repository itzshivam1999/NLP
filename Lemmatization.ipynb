{
 "cells": [
  {
   "cell_type": "markdown",
   "metadata": {},
   "source": [
    "## Wordnet Lemmatizer\n",
    "Lemmatization is a natural language processing (NLP) technique used to reduce words to their base or root form, known as a \"lemma.\" Unlike stemming, which simply cuts off word endings, lemmatization considers the context and meaning of the word to ensure that it is transformed into a meaningful base form."
   ]
  },
  {
   "cell_type": "code",
   "execution_count": 19,
   "metadata": {},
   "outputs": [],
   "source": [
    "from nltk.stem import WordNetLemmatizer"
   ]
  },
  {
   "cell_type": "code",
   "execution_count": 20,
   "metadata": {},
   "outputs": [],
   "source": [
    "lemmatizer=WordNetLemmatizer()"
   ]
  },
  {
   "cell_type": "code",
   "execution_count": 21,
   "metadata": {},
   "outputs": [
    {
     "name": "stderr",
     "output_type": "stream",
     "text": [
      "[nltk_data] Downloading package wordnet to\n",
      "[nltk_data]     C:\\Users\\itzsh\\AppData\\Roaming\\nltk_data...\n",
      "[nltk_data]   Package wordnet is already up-to-date!\n"
     ]
    },
    {
     "data": {
      "text/plain": [
       "True"
      ]
     },
     "execution_count": 21,
     "metadata": {},
     "output_type": "execute_result"
    }
   ],
   "source": [
    "import nltk\n",
    "nltk.download('wordnet')"
   ]
  },
  {
   "cell_type": "markdown",
   "metadata": {},
   "source": [
    "#### param pos: The Part Of Speech tag. \n",
    "#### Valid options are \n",
    "    `\"n\"` for nouns,\n",
    "    `\"v\"` for verbs, \n",
    "    `\"a\"` for adjectives, \n",
    "    `\"r\"` for adverbs \n",
    "    `\"s\"` for satellite adjectives.\n",
    "    examples:"
   ]
  },
  {
   "cell_type": "code",
   "execution_count": 35,
   "metadata": {},
   "outputs": [
    {
     "data": {
      "text/plain": [
       "'go'"
      ]
     },
     "execution_count": 35,
     "metadata": {},
     "output_type": "execute_result"
    }
   ],
   "source": [
    "lemmatizer.lemmatize(\"goes\",pos='v')"
   ]
  },
  {
   "cell_type": "code",
   "execution_count": 36,
   "metadata": {},
   "outputs": [
    {
     "data": {
      "text/plain": [
       "'Taj Mahal'"
      ]
     },
     "execution_count": 36,
     "metadata": {},
     "output_type": "execute_result"
    }
   ],
   "source": [
    "lemmatizer.lemmatize(\"Taj Mahal\",pos='n')"
   ]
  },
  {
   "cell_type": "code",
   "execution_count": 23,
   "metadata": {},
   "outputs": [],
   "source": [
    "words = [\n",
    "    \"Speaking\",\"speaking\", \"Speaks\",\"Spoken\", \"Speak\",\n",
    "    \"eating\", \"eats\", \"eaten\",\n",
    "    \"writing\", \"writes\",\n",
    "    \"programming\", \"programs\", \n",
    "    \"history\",\n",
    "    \"finally\", \"finalized\",\n",
    "    \"running\", \"Runs\", \"Ran\", \"Run\", \n",
    "    \"Thinking\", \"Thinks\", \"Thought\", \"Thoughts\",\n",
    "    \"Reading\", \"Reads\", \"Read\", \n",
    "    \"Written\", \"Writes\", \"Wrote\", \n",
    "    \"Listening\", \"Listens\"\n",
    "]\n"
   ]
  },
  {
   "cell_type": "markdown",
   "metadata": {},
   "source": [
    "#### NOTE: Speaking and speaking are treated differently due to differnce in CAPITAL and Small CASE"
   ]
  },
  {
   "cell_type": "code",
   "execution_count": 24,
   "metadata": {
    "scrolled": true
   },
   "outputs": [
    {
     "name": "stdout",
     "output_type": "stream",
     "text": [
      "Speaking---->Speaking\n",
      "speaking---->speak\n",
      "Speaks---->Speaks\n",
      "Spoken---->Spoken\n",
      "Speak---->Speak\n",
      "eating---->eat\n",
      "eats---->eat\n",
      "eaten---->eat\n",
      "writing---->write\n",
      "writes---->write\n",
      "programming---->program\n",
      "programs---->program\n",
      "history---->history\n",
      "finally---->finally\n",
      "finalized---->finalize\n",
      "running---->run\n",
      "Runs---->Runs\n",
      "Ran---->Ran\n",
      "Run---->Run\n",
      "Thinking---->Thinking\n",
      "Thinks---->Thinks\n",
      "Thought---->Thought\n",
      "Thoughts---->Thoughts\n",
      "Reading---->Reading\n",
      "Reads---->Reads\n",
      "Read---->Read\n",
      "Written---->Written\n",
      "Writes---->Writes\n",
      "Wrote---->Wrote\n",
      "Listening---->Listening\n",
      "Listens---->Listens\n"
     ]
    }
   ],
   "source": [
    "for word in words:\n",
    "    print(word+\"---->\"+lemmatizer.lemmatize(word,pos='v'))"
   ]
  },
  {
   "cell_type": "markdown",
   "metadata": {},
   "source": [
    "#### NOTE : .lower() is applied to list to convert all to lower case"
   ]
  },
  {
   "cell_type": "code",
   "execution_count": 32,
   "metadata": {},
   "outputs": [
    {
     "name": "stdout",
     "output_type": "stream",
     "text": [
      "speaking---->speak\n",
      "speaking---->speak\n",
      "speaks---->speak\n",
      "spoken---->speak\n",
      "speak---->speak\n",
      "eating---->eat\n",
      "eats---->eat\n",
      "eaten---->eat\n",
      "writing---->write\n",
      "writes---->write\n",
      "programming---->program\n",
      "programs---->program\n",
      "history---->history\n",
      "finally---->finally\n",
      "finalized---->finalize\n",
      "running---->run\n",
      "runs---->run\n",
      "ran---->run\n",
      "run---->run\n",
      "thinking---->think\n",
      "thinks---->think\n",
      "thought---->think\n",
      "thoughts---->thoughts\n",
      "reading---->read\n",
      "reads---->read\n",
      "read---->read\n",
      "written---->write\n",
      "writes---->write\n",
      "wrote---->write\n",
      "listening---->listen\n",
      "listens---->listen\n"
     ]
    }
   ],
   "source": [
    "for word in words:\n",
    "    print(word.lower()+\"---->\"+lemmatizer.lemmatize(word.lower(),pos='v'))"
   ]
  }
 ],
 "metadata": {
  "kernelspec": {
   "display_name": "Python 3 (ipykernel)",
   "language": "python",
   "name": "python3"
  },
  "language_info": {
   "codemirror_mode": {
    "name": "ipython",
    "version": 3
   },
   "file_extension": ".py",
   "mimetype": "text/x-python",
   "name": "python",
   "nbconvert_exporter": "python",
   "pygments_lexer": "ipython3",
   "version": "3.12.7"
  }
 },
 "nbformat": 4,
 "nbformat_minor": 4
}
