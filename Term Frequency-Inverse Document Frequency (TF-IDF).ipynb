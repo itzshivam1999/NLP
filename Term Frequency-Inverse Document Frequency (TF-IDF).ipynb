{
 "cells": [
  {
   "cell_type": "code",
   "execution_count": 1,
   "id": "9f099d91-92fc-4595-90c8-bd84b1f51a64",
   "metadata": {},
   "outputs": [],
   "source": [
    "text = \"The Taj Mahal is an ivory-white marble mausoleum on the right bank of the river Yamuna in Agra, Uttar Pradesh, India. It was commissioned in 1631 by the fifth Mughal emperor, Shah Jahan (1628-1658) to house the tomb of his beloved wife, Mumtaz Mahal; it also houses the tomb of Shah Jahan himself. The tomb is the centrepiece of a 17-hectare (42-acre) complex, which includes a mosque and a guest house, and is set in formal gardens bounded on three sides by a crenellated wall. Construction of the mausoleum was completed in 1648, but work continued on other phases of the project for another five years. The first ceremony held at the mausoleum was an observance by Shah Jahan, on 6 February 1643, of the 12th anniversary of the death of Mumtaz Mahal. The Taj Mahal complex is believed to have been completed in its entirety in 1653 at a cost estimated at the time to be around ₹5 million, which in 2023 would be approximately ₹35 billion (US$77.8 million). The building complex incorporates the design traditions of Indo-Islamic and Mughal architecture. It employs symmetrical constructions with the usage of various shapes and symbols. While the mausoleum is constructed of white marble inlaid with semi-precious stones, red sandstone was used for other buildings in the complex similar to the Mughal era buildings of the time. The construction project employed more than 20,000 workers and artisans under the guidance of a board of architects led by Ustad Ahmad Lahori, the emperor's court architect. The Taj Mahal was designated as a UNESCO World Heritage Site in 1983 for being 'the jewel of Islamic art in India and one of the universally admired masterpieces of the world's heritage'. It is regarded as one of the best examples of Mughal architecture and a symbol of Indian history. The Taj Mahal is a major tourist attraction and attracts more than five million visitors a year. In 2007, it was declared a winner of the New 7 Wonders of the World initiative.\""
   ]
  },
  {
   "cell_type": "code",
   "execution_count": 2,
   "id": "f6ec7374-66d9-4438-92a6-bdd2d2c373a9",
   "metadata": {},
   "outputs": [
    {
     "data": {
      "text/plain": [
       "\"The Taj Mahal is an ivory-white marble mausoleum on the right bank of the river Yamuna in Agra, Uttar Pradesh, India. It was commissioned in 1631 by the fifth Mughal emperor, Shah Jahan (1628-1658) to house the tomb of his beloved wife, Mumtaz Mahal; it also houses the tomb of Shah Jahan himself. The tomb is the centrepiece of a 17-hectare (42-acre) complex, which includes a mosque and a guest house, and is set in formal gardens bounded on three sides by a crenellated wall. Construction of the mausoleum was completed in 1648, but work continued on other phases of the project for another five years. The first ceremony held at the mausoleum was an observance by Shah Jahan, on 6 February 1643, of the 12th anniversary of the death of Mumtaz Mahal. The Taj Mahal complex is believed to have been completed in its entirety in 1653 at a cost estimated at the time to be around ₹5 million, which in 2023 would be approximately ₹35 billion (US$77.8 million). The building complex incorporates the design traditions of Indo-Islamic and Mughal architecture. It employs symmetrical constructions with the usage of various shapes and symbols. While the mausoleum is constructed of white marble inlaid with semi-precious stones, red sandstone was used for other buildings in the complex similar to the Mughal era buildings of the time. The construction project employed more than 20,000 workers and artisans under the guidance of a board of architects led by Ustad Ahmad Lahori, the emperor's court architect. The Taj Mahal was designated as a UNESCO World Heritage Site in 1983 for being 'the jewel of Islamic art in India and one of the universally admired masterpieces of the world's heritage'. It is regarded as one of the best examples of Mughal architecture and a symbol of Indian history. The Taj Mahal is a major tourist attraction and attracts more than five million visitors a year. In 2007, it was declared a winner of the New 7 Wonders of the World initiative.\""
      ]
     },
     "execution_count": 2,
     "metadata": {},
     "output_type": "execute_result"
    }
   ],
   "source": [
    "text"
   ]
  },
  {
   "cell_type": "code",
   "execution_count": 3,
   "id": "f049af69-b1c8-4620-bdd5-ec770d10b448",
   "metadata": {},
   "outputs": [],
   "source": [
    "from sklearn.feature_extraction.text import TfidfVectorizer\n",
    "\n",
    "vectorizer = TfidfVectorizer(max_features=50)\n",
    "\n",
    "tfidf_matrix = vectorizer.fit_transform([text])\n"
   ]
  },
  {
   "cell_type": "code",
   "execution_count": 4,
   "id": "47c2d086-8a8e-4c53-a614-b53a6c4061b5",
   "metadata": {},
   "outputs": [],
   "source": [
    "import pandas as pd\n",
    "\n",
    "df1 = pd.DataFrame(tfidf_matrix.toarray(), columns=vectorizer.get_feature_names_out())"
   ]
  },
  {
   "cell_type": "code",
   "execution_count": 5,
   "id": "69562729-7d78-4ab2-9f17-9bc53e9f065e",
   "metadata": {},
   "outputs": [
    {
     "data": {
      "text/html": [
       "<div>\n",
       "<style scoped>\n",
       "    .dataframe tbody tr th:only-of-type {\n",
       "        vertical-align: middle;\n",
       "    }\n",
       "\n",
       "    .dataframe tbody tr th {\n",
       "        vertical-align: top;\n",
       "    }\n",
       "\n",
       "    .dataframe thead th {\n",
       "        text-align: right;\n",
       "    }\n",
       "</style>\n",
       "<table border=\"1\" class=\"dataframe\">\n",
       "  <thead>\n",
       "    <tr style=\"text-align: right;\">\n",
       "      <th></th>\n",
       "      <th>an</th>\n",
       "      <th>and</th>\n",
       "      <th>architecture</th>\n",
       "      <th>as</th>\n",
       "      <th>at</th>\n",
       "      <th>be</th>\n",
       "      <th>buildings</th>\n",
       "      <th>by</th>\n",
       "      <th>completed</th>\n",
       "      <th>complex</th>\n",
       "      <th>...</th>\n",
       "      <th>than</th>\n",
       "      <th>the</th>\n",
       "      <th>time</th>\n",
       "      <th>to</th>\n",
       "      <th>tomb</th>\n",
       "      <th>was</th>\n",
       "      <th>which</th>\n",
       "      <th>white</th>\n",
       "      <th>with</th>\n",
       "      <th>world</th>\n",
       "    </tr>\n",
       "  </thead>\n",
       "  <tbody>\n",
       "    <tr>\n",
       "      <th>0</th>\n",
       "      <td>0.041785</td>\n",
       "      <td>0.167139</td>\n",
       "      <td>0.041785</td>\n",
       "      <td>0.041785</td>\n",
       "      <td>0.062677</td>\n",
       "      <td>0.041785</td>\n",
       "      <td>0.041785</td>\n",
       "      <td>0.083569</td>\n",
       "      <td>0.041785</td>\n",
       "      <td>0.083569</td>\n",
       "      <td>...</td>\n",
       "      <td>0.041785</td>\n",
       "      <td>0.71034</td>\n",
       "      <td>0.041785</td>\n",
       "      <td>0.083569</td>\n",
       "      <td>0.062677</td>\n",
       "      <td>0.125354</td>\n",
       "      <td>0.041785</td>\n",
       "      <td>0.041785</td>\n",
       "      <td>0.041785</td>\n",
       "      <td>0.062677</td>\n",
       "    </tr>\n",
       "  </tbody>\n",
       "</table>\n",
       "<p>1 rows × 50 columns</p>\n",
       "</div>"
      ],
      "text/plain": [
       "         an       and  architecture        as        at        be  buildings  \\\n",
       "0  0.041785  0.167139      0.041785  0.041785  0.062677  0.041785   0.041785   \n",
       "\n",
       "         by  completed   complex  ...      than      the      time        to  \\\n",
       "0  0.083569   0.041785  0.083569  ...  0.041785  0.71034  0.041785  0.083569   \n",
       "\n",
       "       tomb       was     which     white      with     world  \n",
       "0  0.062677  0.125354  0.041785  0.041785  0.041785  0.062677  \n",
       "\n",
       "[1 rows x 50 columns]"
      ]
     },
     "execution_count": 5,
     "metadata": {},
     "output_type": "execute_result"
    }
   ],
   "source": [
    "df1"
   ]
  },
  {
   "cell_type": "markdown",
   "id": "35681de7-2c57-4751-a1ef-95af76adedf6",
   "metadata": {},
   "source": [
    "#### As sequence in original text:"
   ]
  },
  {
   "cell_type": "code",
   "execution_count": 6,
   "id": "a2d4f8ea-db62-42cb-8630-78fe96cad6c3",
   "metadata": {},
   "outputs": [],
   "source": [
    "df2 = pd.DataFrame(tfidf_matrix.toarray(), columns=vectorizer.vocabulary_)"
   ]
  },
  {
   "cell_type": "code",
   "execution_count": 7,
   "id": "1832fdee-ec28-40b5-b097-19e6cda8940c",
   "metadata": {},
   "outputs": [
    {
     "data": {
      "text/html": [
       "<div>\n",
       "<style scoped>\n",
       "    .dataframe tbody tr th:only-of-type {\n",
       "        vertical-align: middle;\n",
       "    }\n",
       "\n",
       "    .dataframe tbody tr th {\n",
       "        vertical-align: top;\n",
       "    }\n",
       "\n",
       "    .dataframe thead th {\n",
       "        text-align: right;\n",
       "    }\n",
       "</style>\n",
       "<table border=\"1\" class=\"dataframe\">\n",
       "  <thead>\n",
       "    <tr style=\"text-align: right;\">\n",
       "      <th></th>\n",
       "      <th>the</th>\n",
       "      <th>taj</th>\n",
       "      <th>mahal</th>\n",
       "      <th>is</th>\n",
       "      <th>an</th>\n",
       "      <th>white</th>\n",
       "      <th>marble</th>\n",
       "      <th>mausoleum</th>\n",
       "      <th>on</th>\n",
       "      <th>of</th>\n",
       "      <th>...</th>\n",
       "      <th>architecture</th>\n",
       "      <th>with</th>\n",
       "      <th>precious</th>\n",
       "      <th>buildings</th>\n",
       "      <th>more</th>\n",
       "      <th>than</th>\n",
       "      <th>as</th>\n",
       "      <th>world</th>\n",
       "      <th>heritage</th>\n",
       "      <th>one</th>\n",
       "    </tr>\n",
       "  </thead>\n",
       "  <tbody>\n",
       "    <tr>\n",
       "      <th>0</th>\n",
       "      <td>0.041785</td>\n",
       "      <td>0.167139</td>\n",
       "      <td>0.041785</td>\n",
       "      <td>0.041785</td>\n",
       "      <td>0.062677</td>\n",
       "      <td>0.041785</td>\n",
       "      <td>0.041785</td>\n",
       "      <td>0.083569</td>\n",
       "      <td>0.041785</td>\n",
       "      <td>0.083569</td>\n",
       "      <td>...</td>\n",
       "      <td>0.041785</td>\n",
       "      <td>0.71034</td>\n",
       "      <td>0.041785</td>\n",
       "      <td>0.083569</td>\n",
       "      <td>0.062677</td>\n",
       "      <td>0.125354</td>\n",
       "      <td>0.041785</td>\n",
       "      <td>0.041785</td>\n",
       "      <td>0.041785</td>\n",
       "      <td>0.062677</td>\n",
       "    </tr>\n",
       "  </tbody>\n",
       "</table>\n",
       "<p>1 rows × 50 columns</p>\n",
       "</div>"
      ],
      "text/plain": [
       "        the       taj     mahal        is        an     white    marble  \\\n",
       "0  0.041785  0.167139  0.041785  0.041785  0.062677  0.041785  0.041785   \n",
       "\n",
       "   mausoleum        on        of  ...  architecture     with  precious  \\\n",
       "0   0.083569  0.041785  0.083569  ...      0.041785  0.71034  0.041785   \n",
       "\n",
       "   buildings      more      than        as     world  heritage       one  \n",
       "0   0.083569  0.062677  0.125354  0.041785  0.041785  0.041785  0.062677  \n",
       "\n",
       "[1 rows x 50 columns]"
      ]
     },
     "execution_count": 7,
     "metadata": {},
     "output_type": "execute_result"
    }
   ],
   "source": [
    "df2"
   ]
  },
  {
   "cell_type": "markdown",
   "id": "0793675a-cd2e-42ec-8507-ee21af49b723",
   "metadata": {},
   "source": [
    "#### Using ngram_range :"
   ]
  },
  {
   "cell_type": "code",
   "execution_count": 9,
   "id": "78185f86-7ebf-4ee9-b479-4cb2970a7de7",
   "metadata": {},
   "outputs": [],
   "source": [
    "tfidf=TfidfVectorizer(max_features=100,ngram_range=(2,2))\n",
    "X=tfidf.fit_transform([text]).toarray()"
   ]
  },
  {
   "cell_type": "code",
   "execution_count": 10,
   "id": "1b2c2139-60f1-438a-961c-a0a10ea6344f",
   "metadata": {},
   "outputs": [
    {
     "data": {
      "text/plain": [
       "{'the taj': 69,\n",
       " 'taj mahal': 67,\n",
       " 'mahal is': 11,\n",
       " 'ivory white': 3,\n",
       " 'white marble': 91,\n",
       " 'marble mausoleum': 17,\n",
       " 'mausoleum on': 20,\n",
       " 'on the': 48,\n",
       " 'right bank': 60,\n",
       " 'of the': 43,\n",
       " 'river yamuna': 61,\n",
       " 'yamuna in': 99,\n",
       " 'pradesh india': 54,\n",
       " 'it was': 2,\n",
       " 'mughal emperor': 28,\n",
       " 'shah jahan': 65,\n",
       " 'jahan 1628': 4,\n",
       " 'to house': 80,\n",
       " 'the tomb': 71,\n",
       " 'tomb of': 83,\n",
       " 'of his': 36,\n",
       " 'mumtaz mahal': 30,\n",
       " 'mahal it': 12,\n",
       " 'of shah': 42,\n",
       " 'jahan himself': 5,\n",
       " 'tomb is': 82,\n",
       " 'of 17': 33,\n",
       " 'which includes': 90,\n",
       " 'mosque and': 26,\n",
       " 'set in': 64,\n",
       " 'on three': 49,\n",
       " 'three sides': 75,\n",
       " 'the mausoleum': 68,\n",
       " 'mausoleum was': 21,\n",
       " 'completed in': 1,\n",
       " 'work continued': 94,\n",
       " 'on other': 47,\n",
       " 'other phases': 52,\n",
       " 'phases of': 53,\n",
       " 'project for': 57,\n",
       " 'at the': 0,\n",
       " 'observance by': 32,\n",
       " 'jahan on': 6,\n",
       " 'on february': 46,\n",
       " 'of mumtaz': 41,\n",
       " 'mahal the': 13,\n",
       " 'mahal complex': 10,\n",
       " 'to have': 79,\n",
       " 'the time': 70,\n",
       " 'time to': 77,\n",
       " 'to be': 78,\n",
       " 'million which': 24,\n",
       " 'which in': 89,\n",
       " 'would be': 98,\n",
       " 'million the': 22,\n",
       " 'traditions of': 85,\n",
       " 'of indo': 38,\n",
       " 'mughal architecture': 27,\n",
       " 'with the': 92,\n",
       " 'the usage': 73,\n",
       " 'of various': 44,\n",
       " 'shapes and': 66,\n",
       " 'mausoleum is': 19,\n",
       " 'of white': 45,\n",
       " 'marble inlaid': 16,\n",
       " 'semi precious': 63,\n",
       " 'precious stones': 55,\n",
       " 'red sandstone': 58,\n",
       " 'sandstone was': 62,\n",
       " 'was used': 88,\n",
       " 'other buildings': 51,\n",
       " 'to the': 81,\n",
       " 'mughal era': 29,\n",
       " 'time the': 76,\n",
       " 'project employed': 56,\n",
       " 'more than': 25,\n",
       " 'workers and': 95,\n",
       " 'of board': 35,\n",
       " 'of architects': 34,\n",
       " 'led by': 9,\n",
       " 'lahori the': 8,\n",
       " 'mahal was': 14,\n",
       " 'unesco world': 86,\n",
       " 'world heritage': 96,\n",
       " 'jewel of': 7,\n",
       " 'of islamic': 39,\n",
       " 'one of': 50,\n",
       " 'the universally': 72,\n",
       " 'masterpieces of': 18,\n",
       " 'the world': 74,\n",
       " 'regarded as': 59,\n",
       " 'of mughal': 40,\n",
       " 'of indian': 37,\n",
       " 'major tourist': 15,\n",
       " 'tourist attraction': 84,\n",
       " 'million visitors': 23,\n",
       " 'was declared': 87,\n",
       " 'new wonders': 31,\n",
       " 'wonders of': 93,\n",
       " 'world initiative': 97}"
      ]
     },
     "execution_count": 10,
     "metadata": {},
     "output_type": "execute_result"
    }
   ],
   "source": [
    "tfidf.vocabulary_"
   ]
  },
  {
   "cell_type": "code",
   "execution_count": 15,
   "id": "495ba9e5-9f93-4702-b055-13645422f98a",
   "metadata": {},
   "outputs": [
    {
     "data": {
      "text/plain": [
       "array([[0.11250879, 0.11250879, 0.11250879, 0.0562544 , 0.0562544 ,\n",
       "        0.0562544 , 0.0562544 , 0.0562544 , 0.0562544 , 0.0562544 ,\n",
       "        0.0562544 , 0.11250879, 0.0562544 , 0.0562544 , 0.0562544 ,\n",
       "        0.0562544 , 0.0562544 , 0.0562544 , 0.0562544 , 0.0562544 ,\n",
       "        0.0562544 , 0.11250879, 0.0562544 , 0.0562544 , 0.0562544 ,\n",
       "        0.11250879, 0.0562544 , 0.11250879, 0.0562544 , 0.0562544 ,\n",
       "        0.11250879, 0.0562544 , 0.0562544 , 0.0562544 , 0.0562544 ,\n",
       "        0.0562544 , 0.0562544 , 0.0562544 , 0.0562544 , 0.0562544 ,\n",
       "        0.0562544 , 0.0562544 , 0.0562544 , 0.61879835, 0.0562544 ,\n",
       "        0.0562544 , 0.0562544 , 0.0562544 , 0.0562544 , 0.0562544 ,\n",
       "        0.11250879, 0.0562544 , 0.0562544 , 0.0562544 , 0.0562544 ,\n",
       "        0.0562544 , 0.0562544 , 0.0562544 , 0.0562544 , 0.0562544 ,\n",
       "        0.0562544 , 0.0562544 , 0.0562544 , 0.0562544 , 0.0562544 ,\n",
       "        0.16876319, 0.0562544 , 0.22501758, 0.16876319, 0.22501758,\n",
       "        0.11250879, 0.16876319, 0.0562544 , 0.0562544 , 0.11250879,\n",
       "        0.0562544 , 0.0562544 , 0.0562544 , 0.0562544 , 0.0562544 ,\n",
       "        0.0562544 , 0.0562544 , 0.0562544 , 0.11250879, 0.0562544 ,\n",
       "        0.0562544 , 0.0562544 , 0.0562544 , 0.0562544 , 0.0562544 ,\n",
       "        0.0562544 , 0.11250879, 0.0562544 , 0.0562544 , 0.0562544 ,\n",
       "        0.0562544 , 0.11250879, 0.0562544 , 0.0562544 , 0.0562544 ]])"
      ]
     },
     "execution_count": 15,
     "metadata": {},
     "output_type": "execute_result"
    }
   ],
   "source": [
    "X"
   ]
  }
 ],
 "metadata": {
  "kernelspec": {
   "display_name": "Python 3 (ipykernel)",
   "language": "python",
   "name": "python3"
  },
  "language_info": {
   "codemirror_mode": {
    "name": "ipython",
    "version": 3
   },
   "file_extension": ".py",
   "mimetype": "text/x-python",
   "name": "python",
   "nbconvert_exporter": "python",
   "pygments_lexer": "ipython3",
   "version": "3.12.7"
  }
 },
 "nbformat": 4,
 "nbformat_minor": 5
}
